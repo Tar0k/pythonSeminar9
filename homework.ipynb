{
 "cells": [
  {
   "cell_type": "markdown",
   "source": [
    "Task 40 Работать с файлом california_housing_train.csv, который находится в папке sample_data.\n",
    " Определить среднюю стоимость дома, где кол-во людей от 0 до 500 (population)."
   ],
   "metadata": {
    "collapsed": false
   },
   "id": "9dbc45f174f3ce5a"
  },
  {
   "cell_type": "code",
   "execution_count": 19,
   "id": "initial_id",
   "metadata": {
    "collapsed": true,
    "ExecuteTime": {
     "end_time": "2023-08-27T16:34:09.240024100Z",
     "start_time": "2023-08-27T16:34:09.226656Z"
    }
   },
   "outputs": [],
   "source": [
    "import pandas as pd"
   ]
  },
  {
   "cell_type": "code",
   "execution_count": 20,
   "outputs": [],
   "source": [
    "df = pd.read_csv('california.csv')"
   ],
   "metadata": {
    "collapsed": false,
    "ExecuteTime": {
     "end_time": "2023-08-27T16:34:10.835111300Z",
     "start_time": "2023-08-27T16:34:10.823130400Z"
    }
   },
   "id": "4011b34e644ef0e2"
  },
  {
   "cell_type": "code",
   "execution_count": 21,
   "outputs": [
    {
     "data": {
      "text/plain": "   longitude  latitude  housing_median_age  total_rooms  total_bedrooms  \\\n0    -122.05     37.37                27.0       3885.0           661.0   \n1    -118.30     34.26                43.0       1510.0           310.0   \n2    -117.81     33.78                27.0       3589.0           507.0   \n3    -118.36     33.82                28.0         67.0            15.0   \n4    -119.67     36.33                19.0       1241.0           244.0   \n\n   population  households  median_income  median_house_value  \n0      1537.0       606.0         6.6085            344700.0  \n1       809.0       277.0         3.5990            176500.0  \n2      1484.0       495.0         5.7934            270500.0  \n3        49.0        11.0         6.1359            330000.0  \n4       850.0       237.0         2.9375             81700.0  ",
      "text/html": "<div>\n<style scoped>\n    .dataframe tbody tr th:only-of-type {\n        vertical-align: middle;\n    }\n\n    .dataframe tbody tr th {\n        vertical-align: top;\n    }\n\n    .dataframe thead th {\n        text-align: right;\n    }\n</style>\n<table border=\"1\" class=\"dataframe\">\n  <thead>\n    <tr style=\"text-align: right;\">\n      <th></th>\n      <th>longitude</th>\n      <th>latitude</th>\n      <th>housing_median_age</th>\n      <th>total_rooms</th>\n      <th>total_bedrooms</th>\n      <th>population</th>\n      <th>households</th>\n      <th>median_income</th>\n      <th>median_house_value</th>\n    </tr>\n  </thead>\n  <tbody>\n    <tr>\n      <th>0</th>\n      <td>-122.05</td>\n      <td>37.37</td>\n      <td>27.0</td>\n      <td>3885.0</td>\n      <td>661.0</td>\n      <td>1537.0</td>\n      <td>606.0</td>\n      <td>6.6085</td>\n      <td>344700.0</td>\n    </tr>\n    <tr>\n      <th>1</th>\n      <td>-118.30</td>\n      <td>34.26</td>\n      <td>43.0</td>\n      <td>1510.0</td>\n      <td>310.0</td>\n      <td>809.0</td>\n      <td>277.0</td>\n      <td>3.5990</td>\n      <td>176500.0</td>\n    </tr>\n    <tr>\n      <th>2</th>\n      <td>-117.81</td>\n      <td>33.78</td>\n      <td>27.0</td>\n      <td>3589.0</td>\n      <td>507.0</td>\n      <td>1484.0</td>\n      <td>495.0</td>\n      <td>5.7934</td>\n      <td>270500.0</td>\n    </tr>\n    <tr>\n      <th>3</th>\n      <td>-118.36</td>\n      <td>33.82</td>\n      <td>28.0</td>\n      <td>67.0</td>\n      <td>15.0</td>\n      <td>49.0</td>\n      <td>11.0</td>\n      <td>6.1359</td>\n      <td>330000.0</td>\n    </tr>\n    <tr>\n      <th>4</th>\n      <td>-119.67</td>\n      <td>36.33</td>\n      <td>19.0</td>\n      <td>1241.0</td>\n      <td>244.0</td>\n      <td>850.0</td>\n      <td>237.0</td>\n      <td>2.9375</td>\n      <td>81700.0</td>\n    </tr>\n  </tbody>\n</table>\n</div>"
     },
     "execution_count": 21,
     "metadata": {},
     "output_type": "execute_result"
    }
   ],
   "source": [
    "df.head()"
   ],
   "metadata": {
    "collapsed": false,
    "ExecuteTime": {
     "end_time": "2023-08-27T16:34:11.980609300Z",
     "start_time": "2023-08-27T16:34:11.967653800Z"
    }
   },
   "id": "f547d3627447bda"
  },
  {
   "cell_type": "code",
   "execution_count": 7,
   "outputs": [],
   "source": [
    "filtered_by_households = df.query('households >= 0 and households <= 500')"
   ],
   "metadata": {
    "collapsed": false,
    "ExecuteTime": {
     "end_time": "2023-08-27T16:23:49.982071100Z",
     "start_time": "2023-08-27T16:23:49.972528600Z"
    }
   },
   "id": "4ee21e1b79ee933f"
  },
  {
   "cell_type": "code",
   "execution_count": 10,
   "outputs": [
    {
     "data": {
      "text/plain": "199490.47123430963"
     },
     "execution_count": 10,
     "metadata": {},
     "output_type": "execute_result"
    }
   ],
   "source": [
    "filtered_by_households.median_house_value.mean()"
   ],
   "metadata": {
    "collapsed": false,
    "ExecuteTime": {
     "end_time": "2023-08-27T16:27:02.479500200Z",
     "start_time": "2023-08-27T16:27:02.466760900Z"
    }
   },
   "id": "84987b3aa002dcce"
  },
  {
   "cell_type": "markdown",
   "source": [
    "Task 42 Узнать какая максимальная households в зоне минимального значения population."
   ],
   "metadata": {
    "collapsed": false
   },
   "id": "e18be61b2972f02b"
  },
  {
   "cell_type": "code",
   "execution_count": 11,
   "outputs": [
    {
     "data": {
      "text/plain": "   longitude  latitude  housing_median_age  total_rooms  total_bedrooms  \\\n0    -122.05     37.37                27.0       3885.0           661.0   \n1    -118.30     34.26                43.0       1510.0           310.0   \n2    -117.81     33.78                27.0       3589.0           507.0   \n3    -118.36     33.82                28.0         67.0            15.0   \n4    -119.67     36.33                19.0       1241.0           244.0   \n\n   population  households  median_income  median_house_value  \n0      1537.0       606.0         6.6085            344700.0  \n1       809.0       277.0         3.5990            176500.0  \n2      1484.0       495.0         5.7934            270500.0  \n3        49.0        11.0         6.1359            330000.0  \n4       850.0       237.0         2.9375             81700.0  ",
      "text/html": "<div>\n<style scoped>\n    .dataframe tbody tr th:only-of-type {\n        vertical-align: middle;\n    }\n\n    .dataframe tbody tr th {\n        vertical-align: top;\n    }\n\n    .dataframe thead th {\n        text-align: right;\n    }\n</style>\n<table border=\"1\" class=\"dataframe\">\n  <thead>\n    <tr style=\"text-align: right;\">\n      <th></th>\n      <th>longitude</th>\n      <th>latitude</th>\n      <th>housing_median_age</th>\n      <th>total_rooms</th>\n      <th>total_bedrooms</th>\n      <th>population</th>\n      <th>households</th>\n      <th>median_income</th>\n      <th>median_house_value</th>\n    </tr>\n  </thead>\n  <tbody>\n    <tr>\n      <th>0</th>\n      <td>-122.05</td>\n      <td>37.37</td>\n      <td>27.0</td>\n      <td>3885.0</td>\n      <td>661.0</td>\n      <td>1537.0</td>\n      <td>606.0</td>\n      <td>6.6085</td>\n      <td>344700.0</td>\n    </tr>\n    <tr>\n      <th>1</th>\n      <td>-118.30</td>\n      <td>34.26</td>\n      <td>43.0</td>\n      <td>1510.0</td>\n      <td>310.0</td>\n      <td>809.0</td>\n      <td>277.0</td>\n      <td>3.5990</td>\n      <td>176500.0</td>\n    </tr>\n    <tr>\n      <th>2</th>\n      <td>-117.81</td>\n      <td>33.78</td>\n      <td>27.0</td>\n      <td>3589.0</td>\n      <td>507.0</td>\n      <td>1484.0</td>\n      <td>495.0</td>\n      <td>5.7934</td>\n      <td>270500.0</td>\n    </tr>\n    <tr>\n      <th>3</th>\n      <td>-118.36</td>\n      <td>33.82</td>\n      <td>28.0</td>\n      <td>67.0</td>\n      <td>15.0</td>\n      <td>49.0</td>\n      <td>11.0</td>\n      <td>6.1359</td>\n      <td>330000.0</td>\n    </tr>\n    <tr>\n      <th>4</th>\n      <td>-119.67</td>\n      <td>36.33</td>\n      <td>19.0</td>\n      <td>1241.0</td>\n      <td>244.0</td>\n      <td>850.0</td>\n      <td>237.0</td>\n      <td>2.9375</td>\n      <td>81700.0</td>\n    </tr>\n  </tbody>\n</table>\n</div>"
     },
     "execution_count": 11,
     "metadata": {},
     "output_type": "execute_result"
    }
   ],
   "source": [
    "df.head()"
   ],
   "metadata": {
    "collapsed": false,
    "ExecuteTime": {
     "end_time": "2023-08-27T16:28:20.117453700Z",
     "start_time": "2023-08-27T16:28:20.081392700Z"
    }
   },
   "id": "a3505ed9ab5d407"
  },
  {
   "cell_type": "code",
   "execution_count": 16,
   "outputs": [
    {
     "data": {
      "text/plain": "longitude              -119.5600\nlatitude                 36.5100\nhousing_median_age       37.0000\ntotal_rooms            1018.0000\ntotal_bedrooms          213.0000\npopulation              663.0000\nhouseholds              204.0000\nmedian_income             1.6635\nmedian_house_value    67000.0000\nName: 5, dtype: float64"
     },
     "execution_count": 16,
     "metadata": {},
     "output_type": "execute_result"
    }
   ],
   "source": [
    "df.query('population.min()')"
   ],
   "metadata": {
    "collapsed": false,
    "ExecuteTime": {
     "end_time": "2023-08-27T16:30:39.109864400Z",
     "start_time": "2023-08-27T16:30:39.095487500Z"
    }
   },
   "id": "489cdc79b6b94016"
  },
  {
   "cell_type": "code",
   "execution_count": 18,
   "outputs": [
    {
     "data": {
      "text/plain": "2640    3.0\nName: households, dtype: float64"
     },
     "execution_count": 18,
     "metadata": {},
     "output_type": "execute_result"
    }
   ],
   "source": [
    "df.query('population == population.min()').households"
   ],
   "metadata": {
    "collapsed": false,
    "ExecuteTime": {
     "end_time": "2023-08-27T16:32:55.279681200Z",
     "start_time": "2023-08-27T16:32:55.239065Z"
    }
   },
   "id": "554e220cffb5b442"
  },
  {
   "cell_type": "code",
   "execution_count": null,
   "outputs": [],
   "source": [],
   "metadata": {
    "collapsed": false
   },
   "id": "3afa861de98555c4"
  }
 ],
 "metadata": {
  "kernelspec": {
   "display_name": "Python 3",
   "language": "python",
   "name": "python3"
  },
  "language_info": {
   "codemirror_mode": {
    "name": "ipython",
    "version": 2
   },
   "file_extension": ".py",
   "mimetype": "text/x-python",
   "name": "python",
   "nbconvert_exporter": "python",
   "pygments_lexer": "ipython2",
   "version": "2.7.6"
  }
 },
 "nbformat": 4,
 "nbformat_minor": 5
}
